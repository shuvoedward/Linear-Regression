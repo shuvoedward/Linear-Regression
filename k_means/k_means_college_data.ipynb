{
  "nbformat": 4,
  "nbformat_minor": 0,
  "metadata": {
    "colab": {
      "name": "k means college data",
      "provenance": [],
      "collapsed_sections": [],
      "authorship_tag": "ABX9TyO9IigfdTO5/NNQ1nQCmlxY",
      "include_colab_link": true
    },
    "kernelspec": {
      "name": "python3",
      "display_name": "Python 3"
    }
  },
  "cells": [
    {
      "cell_type": "markdown",
      "metadata": {
        "id": "view-in-github",
        "colab_type": "text"
      },
      "source": [
        "<a href=\"https://colab.research.google.com/github/shuvoedward/Machine-learning/blob/master/k_means/k_means_college_data.ipynb\" target=\"_parent\"><img src=\"https://colab.research.google.com/assets/colab-badge.svg\" alt=\"Open In Colab\"/></a>"
      ]
    },
    {
      "cell_type": "code",
      "metadata": {
        "id": "Plo42y4GJaN5",
        "colab_type": "code",
        "colab": {
          "base_uri": "https://localhost:8080/",
          "height": 72
        },
        "outputId": "7dd11bb0-dc16-4c5a-a66a-4fbc0b4734ff"
      },
      "source": [
        "# importing libraries for data analysis\n",
        "import numpy as np\n",
        "import pandas as pd\n",
        "\n",
        "import matplotlib.pyplot as plt\n",
        "import seaborn as sns"
      ],
      "execution_count": 1,
      "outputs": [
        {
          "output_type": "stream",
          "text": [
            "/usr/local/lib/python3.6/dist-packages/statsmodels/tools/_testing.py:19: FutureWarning: pandas.util.testing is deprecated. Use the functions in the public API at pandas.testing instead.\n",
            "  import pandas.util.testing as tm\n"
          ],
          "name": "stderr"
        }
      ]
    },
    {
      "cell_type": "code",
      "metadata": {
        "id": "rS0JE5y9J4bW",
        "colab_type": "code",
        "colab": {
          "resources": {
            "http://localhost:8080/nbextensions/google.colab/files.js": {
              "data": "Ly8gQ29weXJpZ2h0IDIwMTcgR29vZ2xlIExMQwovLwovLyBMaWNlbnNlZCB1bmRlciB0aGUgQXBhY2hlIExpY2Vuc2UsIFZlcnNpb24gMi4wICh0aGUgIkxpY2Vuc2UiKTsKLy8geW91IG1heSBub3QgdXNlIHRoaXMgZmlsZSBleGNlcHQgaW4gY29tcGxpYW5jZSB3aXRoIHRoZSBMaWNlbnNlLgovLyBZb3UgbWF5IG9idGFpbiBhIGNvcHkgb2YgdGhlIExpY2Vuc2UgYXQKLy8KLy8gICAgICBodHRwOi8vd3d3LmFwYWNoZS5vcmcvbGljZW5zZXMvTElDRU5TRS0yLjAKLy8KLy8gVW5sZXNzIHJlcXVpcmVkIGJ5IGFwcGxpY2FibGUgbGF3IG9yIGFncmVlZCB0byBpbiB3cml0aW5nLCBzb2Z0d2FyZQovLyBkaXN0cmlidXRlZCB1bmRlciB0aGUgTGljZW5zZSBpcyBkaXN0cmlidXRlZCBvbiBhbiAiQVMgSVMiIEJBU0lTLAovLyBXSVRIT1VUIFdBUlJBTlRJRVMgT1IgQ09ORElUSU9OUyBPRiBBTlkgS0lORCwgZWl0aGVyIGV4cHJlc3Mgb3IgaW1wbGllZC4KLy8gU2VlIHRoZSBMaWNlbnNlIGZvciB0aGUgc3BlY2lmaWMgbGFuZ3VhZ2UgZ292ZXJuaW5nIHBlcm1pc3Npb25zIGFuZAovLyBsaW1pdGF0aW9ucyB1bmRlciB0aGUgTGljZW5zZS4KCi8qKgogKiBAZmlsZW92ZXJ2aWV3IEhlbHBlcnMgZm9yIGdvb2dsZS5jb2xhYiBQeXRob24gbW9kdWxlLgogKi8KKGZ1bmN0aW9uKHNjb3BlKSB7CmZ1bmN0aW9uIHNwYW4odGV4dCwgc3R5bGVBdHRyaWJ1dGVzID0ge30pIHsKICBjb25zdCBlbGVtZW50ID0gZG9jdW1lbnQuY3JlYXRlRWxlbWVudCgnc3BhbicpOwogIGVsZW1lbnQudGV4dENvbnRlbnQgPSB0ZXh0OwogIGZvciAoY29uc3Qga2V5IG9mIE9iamVjdC5rZXlzKHN0eWxlQXR0cmlidXRlcykpIHsKICAgIGVsZW1lbnQuc3R5bGVba2V5XSA9IHN0eWxlQXR0cmlidXRlc1trZXldOwogIH0KICByZXR1cm4gZWxlbWVudDsKfQoKLy8gTWF4IG51bWJlciBvZiBieXRlcyB3aGljaCB3aWxsIGJlIHVwbG9hZGVkIGF0IGEgdGltZS4KY29uc3QgTUFYX1BBWUxPQURfU0laRSA9IDEwMCAqIDEwMjQ7CgpmdW5jdGlvbiBfdXBsb2FkRmlsZXMoaW5wdXRJZCwgb3V0cHV0SWQpIHsKICBjb25zdCBzdGVwcyA9IHVwbG9hZEZpbGVzU3RlcChpbnB1dElkLCBvdXRwdXRJZCk7CiAgY29uc3Qgb3V0cHV0RWxlbWVudCA9IGRvY3VtZW50LmdldEVsZW1lbnRCeUlkKG91dHB1dElkKTsKICAvLyBDYWNoZSBzdGVwcyBvbiB0aGUgb3V0cHV0RWxlbWVudCB0byBtYWtlIGl0IGF2YWlsYWJsZSBmb3IgdGhlIG5leHQgY2FsbAogIC8vIHRvIHVwbG9hZEZpbGVzQ29udGludWUgZnJvbSBQeXRob24uCiAgb3V0cHV0RWxlbWVudC5zdGVwcyA9IHN0ZXBzOwoKICByZXR1cm4gX3VwbG9hZEZpbGVzQ29udGludWUob3V0cHV0SWQpOwp9CgovLyBUaGlzIGlzIHJvdWdobHkgYW4gYXN5bmMgZ2VuZXJhdG9yIChub3Qgc3VwcG9ydGVkIGluIHRoZSBicm93c2VyIHlldCksCi8vIHdoZXJlIHRoZXJlIGFyZSBtdWx0aXBsZSBhc3luY2hyb25vdXMgc3RlcHMgYW5kIHRoZSBQeXRob24gc2lkZSBpcyBnb2luZwovLyB0byBwb2xsIGZvciBjb21wbGV0aW9uIG9mIGVhY2ggc3RlcC4KLy8gVGhpcyB1c2VzIGEgUHJvbWlzZSB0byBibG9jayB0aGUgcHl0aG9uIHNpZGUgb24gY29tcGxldGlvbiBvZiBlYWNoIHN0ZXAsCi8vIHRoZW4gcGFzc2VzIHRoZSByZXN1bHQgb2YgdGhlIHByZXZpb3VzIHN0ZXAgYXMgdGhlIGlucHV0IHRvIHRoZSBuZXh0IHN0ZXAuCmZ1bmN0aW9uIF91cGxvYWRGaWxlc0NvbnRpbnVlKG91dHB1dElkKSB7CiAgY29uc3Qgb3V0cHV0RWxlbWVudCA9IGRvY3VtZW50LmdldEVsZW1lbnRCeUlkKG91dHB1dElkKTsKICBjb25zdCBzdGVwcyA9IG91dHB1dEVsZW1lbnQuc3RlcHM7CgogIGNvbnN0IG5leHQgPSBzdGVwcy5uZXh0KG91dHB1dEVsZW1lbnQubGFzdFByb21pc2VWYWx1ZSk7CiAgcmV0dXJuIFByb21pc2UucmVzb2x2ZShuZXh0LnZhbHVlLnByb21pc2UpLnRoZW4oKHZhbHVlKSA9PiB7CiAgICAvLyBDYWNoZSB0aGUgbGFzdCBwcm9taXNlIHZhbHVlIHRvIG1ha2UgaXQgYXZhaWxhYmxlIHRvIHRoZSBuZXh0CiAgICAvLyBzdGVwIG9mIHRoZSBnZW5lcmF0b3IuCiAgICBvdXRwdXRFbGVtZW50Lmxhc3RQcm9taXNlVmFsdWUgPSB2YWx1ZTsKICAgIHJldHVybiBuZXh0LnZhbHVlLnJlc3BvbnNlOwogIH0pOwp9CgovKioKICogR2VuZXJhdG9yIGZ1bmN0aW9uIHdoaWNoIGlzIGNhbGxlZCBiZXR3ZWVuIGVhY2ggYXN5bmMgc3RlcCBvZiB0aGUgdXBsb2FkCiAqIHByb2Nlc3MuCiAqIEBwYXJhbSB7c3RyaW5nfSBpbnB1dElkIEVsZW1lbnQgSUQgb2YgdGhlIGlucHV0IGZpbGUgcGlja2VyIGVsZW1lbnQuCiAqIEBwYXJhbSB7c3RyaW5nfSBvdXRwdXRJZCBFbGVtZW50IElEIG9mIHRoZSBvdXRwdXQgZGlzcGxheS4KICogQHJldHVybiB7IUl0ZXJhYmxlPCFPYmplY3Q+fSBJdGVyYWJsZSBvZiBuZXh0IHN0ZXBzLgogKi8KZnVuY3Rpb24qIHVwbG9hZEZpbGVzU3RlcChpbnB1dElkLCBvdXRwdXRJZCkgewogIGNvbnN0IGlucHV0RWxlbWVudCA9IGRvY3VtZW50LmdldEVsZW1lbnRCeUlkKGlucHV0SWQpOwogIGlucHV0RWxlbWVudC5kaXNhYmxlZCA9IGZhbHNlOwoKICBjb25zdCBvdXRwdXRFbGVtZW50ID0gZG9jdW1lbnQuZ2V0RWxlbWVudEJ5SWQob3V0cHV0SWQpOwogIG91dHB1dEVsZW1lbnQuaW5uZXJIVE1MID0gJyc7CgogIGNvbnN0IHBpY2tlZFByb21pc2UgPSBuZXcgUHJvbWlzZSgocmVzb2x2ZSkgPT4gewogICAgaW5wdXRFbGVtZW50LmFkZEV2ZW50TGlzdGVuZXIoJ2NoYW5nZScsIChlKSA9PiB7CiAgICAgIHJlc29sdmUoZS50YXJnZXQuZmlsZXMpOwogICAgfSk7CiAgfSk7CgogIGNvbnN0IGNhbmNlbCA9IGRvY3VtZW50LmNyZWF0ZUVsZW1lbnQoJ2J1dHRvbicpOwogIGlucHV0RWxlbWVudC5wYXJlbnRFbGVtZW50LmFwcGVuZENoaWxkKGNhbmNlbCk7CiAgY2FuY2VsLnRleHRDb250ZW50ID0gJ0NhbmNlbCB1cGxvYWQnOwogIGNvbnN0IGNhbmNlbFByb21pc2UgPSBuZXcgUHJvbWlzZSgocmVzb2x2ZSkgPT4gewogICAgY2FuY2VsLm9uY2xpY2sgPSAoKSA9PiB7CiAgICAgIHJlc29sdmUobnVsbCk7CiAgICB9OwogIH0pOwoKICAvLyBXYWl0IGZvciB0aGUgdXNlciB0byBwaWNrIHRoZSBmaWxlcy4KICBjb25zdCBmaWxlcyA9IHlpZWxkIHsKICAgIHByb21pc2U6IFByb21pc2UucmFjZShbcGlja2VkUHJvbWlzZSwgY2FuY2VsUHJvbWlzZV0pLAogICAgcmVzcG9uc2U6IHsKICAgICAgYWN0aW9uOiAnc3RhcnRpbmcnLAogICAgfQogIH07CgogIGNhbmNlbC5yZW1vdmUoKTsKCiAgLy8gRGlzYWJsZSB0aGUgaW5wdXQgZWxlbWVudCBzaW5jZSBmdXJ0aGVyIHBpY2tzIGFyZSBub3QgYWxsb3dlZC4KICBpbnB1dEVsZW1lbnQuZGlzYWJsZWQgPSB0cnVlOwoKICBpZiAoIWZpbGVzKSB7CiAgICByZXR1cm4gewogICAgICByZXNwb25zZTogewogICAgICAgIGFjdGlvbjogJ2NvbXBsZXRlJywKICAgICAgfQogICAgfTsKICB9CgogIGZvciAoY29uc3QgZmlsZSBvZiBmaWxlcykgewogICAgY29uc3QgbGkgPSBkb2N1bWVudC5jcmVhdGVFbGVtZW50KCdsaScpOwogICAgbGkuYXBwZW5kKHNwYW4oZmlsZS5uYW1lLCB7Zm9udFdlaWdodDogJ2JvbGQnfSkpOwogICAgbGkuYXBwZW5kKHNwYW4oCiAgICAgICAgYCgke2ZpbGUudHlwZSB8fCAnbi9hJ30pIC0gJHtmaWxlLnNpemV9IGJ5dGVzLCBgICsKICAgICAgICBgbGFzdCBtb2RpZmllZDogJHsKICAgICAgICAgICAgZmlsZS5sYXN0TW9kaWZpZWREYXRlID8gZmlsZS5sYXN0TW9kaWZpZWREYXRlLnRvTG9jYWxlRGF0ZVN0cmluZygpIDoKICAgICAgICAgICAgICAgICAgICAgICAgICAgICAgICAgICAgJ24vYSd9IC0gYCkpOwogICAgY29uc3QgcGVyY2VudCA9IHNwYW4oJzAlIGRvbmUnKTsKICAgIGxpLmFwcGVuZENoaWxkKHBlcmNlbnQpOwoKICAgIG91dHB1dEVsZW1lbnQuYXBwZW5kQ2hpbGQobGkpOwoKICAgIGNvbnN0IGZpbGVEYXRhUHJvbWlzZSA9IG5ldyBQcm9taXNlKChyZXNvbHZlKSA9PiB7CiAgICAgIGNvbnN0IHJlYWRlciA9IG5ldyBGaWxlUmVhZGVyKCk7CiAgICAgIHJlYWRlci5vbmxvYWQgPSAoZSkgPT4gewogICAgICAgIHJlc29sdmUoZS50YXJnZXQucmVzdWx0KTsKICAgICAgfTsKICAgICAgcmVhZGVyLnJlYWRBc0FycmF5QnVmZmVyKGZpbGUpOwogICAgfSk7CiAgICAvLyBXYWl0IGZvciB0aGUgZGF0YSB0byBiZSByZWFkeS4KICAgIGxldCBmaWxlRGF0YSA9IHlpZWxkIHsKICAgICAgcHJvbWlzZTogZmlsZURhdGFQcm9taXNlLAogICAgICByZXNwb25zZTogewogICAgICAgIGFjdGlvbjogJ2NvbnRpbnVlJywKICAgICAgfQogICAgfTsKCiAgICAvLyBVc2UgYSBjaHVua2VkIHNlbmRpbmcgdG8gYXZvaWQgbWVzc2FnZSBzaXplIGxpbWl0cy4gU2VlIGIvNjIxMTU2NjAuCiAgICBsZXQgcG9zaXRpb24gPSAwOwogICAgd2hpbGUgKHBvc2l0aW9uIDwgZmlsZURhdGEuYnl0ZUxlbmd0aCkgewogICAgICBjb25zdCBsZW5ndGggPSBNYXRoLm1pbihmaWxlRGF0YS5ieXRlTGVuZ3RoIC0gcG9zaXRpb24sIE1BWF9QQVlMT0FEX1NJWkUpOwogICAgICBjb25zdCBjaHVuayA9IG5ldyBVaW50OEFycmF5KGZpbGVEYXRhLCBwb3NpdGlvbiwgbGVuZ3RoKTsKICAgICAgcG9zaXRpb24gKz0gbGVuZ3RoOwoKICAgICAgY29uc3QgYmFzZTY0ID0gYnRvYShTdHJpbmcuZnJvbUNoYXJDb2RlLmFwcGx5KG51bGwsIGNodW5rKSk7CiAgICAgIHlpZWxkIHsKICAgICAgICByZXNwb25zZTogewogICAgICAgICAgYWN0aW9uOiAnYXBwZW5kJywKICAgICAgICAgIGZpbGU6IGZpbGUubmFtZSwKICAgICAgICAgIGRhdGE6IGJhc2U2NCwKICAgICAgICB9LAogICAgICB9OwogICAgICBwZXJjZW50LnRleHRDb250ZW50ID0KICAgICAgICAgIGAke01hdGgucm91bmQoKHBvc2l0aW9uIC8gZmlsZURhdGEuYnl0ZUxlbmd0aCkgKiAxMDApfSUgZG9uZWA7CiAgICB9CiAgfQoKICAvLyBBbGwgZG9uZS4KICB5aWVsZCB7CiAgICByZXNwb25zZTogewogICAgICBhY3Rpb246ICdjb21wbGV0ZScsCiAgICB9CiAgfTsKfQoKc2NvcGUuZ29vZ2xlID0gc2NvcGUuZ29vZ2xlIHx8IHt9OwpzY29wZS5nb29nbGUuY29sYWIgPSBzY29wZS5nb29nbGUuY29sYWIgfHwge307CnNjb3BlLmdvb2dsZS5jb2xhYi5fZmlsZXMgPSB7CiAgX3VwbG9hZEZpbGVzLAogIF91cGxvYWRGaWxlc0NvbnRpbnVlLAp9Owp9KShzZWxmKTsK",
              "ok": true,
              "headers": [
                [
                  "content-type",
                  "application/javascript"
                ]
              ],
              "status": 200,
              "status_text": ""
            }
          },
          "base_uri": "https://localhost:8080/",
          "height": 73
        },
        "outputId": "d427cbff-52db-403a-9754-117d5b8c7312"
      },
      "source": [
        "# importing data\n",
        "from google.colab import files\n",
        "uploaded = files.upload()"
      ],
      "execution_count": 2,
      "outputs": [
        {
          "output_type": "display_data",
          "data": {
            "text/html": [
              "\n",
              "     <input type=\"file\" id=\"files-d42b32b7-48c1-4531-9a59-e236a4d198fc\" name=\"files[]\" multiple disabled\n",
              "        style=\"border:none\" />\n",
              "     <output id=\"result-d42b32b7-48c1-4531-9a59-e236a4d198fc\">\n",
              "      Upload widget is only available when the cell has been executed in the\n",
              "      current browser session. Please rerun this cell to enable.\n",
              "      </output>\n",
              "      <script src=\"/nbextensions/google.colab/files.js\"></script> "
            ],
            "text/plain": [
              "<IPython.core.display.HTML object>"
            ]
          },
          "metadata": {
            "tags": []
          }
        },
        {
          "output_type": "stream",
          "text": [
            "Saving College_Data to College_Data\n"
          ],
          "name": "stdout"
        }
      ]
    },
    {
      "cell_type": "code",
      "metadata": {
        "id": "feIyTLfXKPjt",
        "colab_type": "code",
        "colab": {}
      },
      "source": [
        "import io"
      ],
      "execution_count": 3,
      "outputs": []
    },
    {
      "cell_type": "code",
      "metadata": {
        "id": "pxmSxH4HKlDb",
        "colab_type": "code",
        "colab": {}
      },
      "source": [
        "# this project is attempted to use Kmeans clustering to cluster universities into 2 groups, private and public\n",
        "# although this data is labeled but i will use without the label, because the algorithm is unsupervised\n",
        "\n",
        "df = pd.read_csv(io.StringIO(uploaded['College_Data'].decode('utf-8')),sep=',', index_col=0)"
      ],
      "execution_count": 4,
      "outputs": []
    },
    {
      "cell_type": "code",
      "metadata": {
        "id": "45sBho6AKwAr",
        "colab_type": "code",
        "colab": {
          "base_uri": "https://localhost:8080/",
          "height": 361
        },
        "outputId": "061b4db1-64cd-4d32-e507-0779205fa973"
      },
      "source": [
        "df.head()"
      ],
      "execution_count": 5,
      "outputs": [
        {
          "output_type": "execute_result",
          "data": {
            "text/html": [
              "<div>\n",
              "<style scoped>\n",
              "    .dataframe tbody tr th:only-of-type {\n",
              "        vertical-align: middle;\n",
              "    }\n",
              "\n",
              "    .dataframe tbody tr th {\n",
              "        vertical-align: top;\n",
              "    }\n",
              "\n",
              "    .dataframe thead th {\n",
              "        text-align: right;\n",
              "    }\n",
              "</style>\n",
              "<table border=\"1\" class=\"dataframe\">\n",
              "  <thead>\n",
              "    <tr style=\"text-align: right;\">\n",
              "      <th></th>\n",
              "      <th>Private</th>\n",
              "      <th>Apps</th>\n",
              "      <th>Accept</th>\n",
              "      <th>Enroll</th>\n",
              "      <th>Top10perc</th>\n",
              "      <th>Top25perc</th>\n",
              "      <th>F.Undergrad</th>\n",
              "      <th>P.Undergrad</th>\n",
              "      <th>Outstate</th>\n",
              "      <th>Room.Board</th>\n",
              "      <th>Books</th>\n",
              "      <th>Personal</th>\n",
              "      <th>PhD</th>\n",
              "      <th>Terminal</th>\n",
              "      <th>S.F.Ratio</th>\n",
              "      <th>perc.alumni</th>\n",
              "      <th>Expend</th>\n",
              "      <th>Grad.Rate</th>\n",
              "    </tr>\n",
              "  </thead>\n",
              "  <tbody>\n",
              "    <tr>\n",
              "      <th>Abilene Christian University</th>\n",
              "      <td>Yes</td>\n",
              "      <td>1660</td>\n",
              "      <td>1232</td>\n",
              "      <td>721</td>\n",
              "      <td>23</td>\n",
              "      <td>52</td>\n",
              "      <td>2885</td>\n",
              "      <td>537</td>\n",
              "      <td>7440</td>\n",
              "      <td>3300</td>\n",
              "      <td>450</td>\n",
              "      <td>2200</td>\n",
              "      <td>70</td>\n",
              "      <td>78</td>\n",
              "      <td>18.1</td>\n",
              "      <td>12</td>\n",
              "      <td>7041</td>\n",
              "      <td>60</td>\n",
              "    </tr>\n",
              "    <tr>\n",
              "      <th>Adelphi University</th>\n",
              "      <td>Yes</td>\n",
              "      <td>2186</td>\n",
              "      <td>1924</td>\n",
              "      <td>512</td>\n",
              "      <td>16</td>\n",
              "      <td>29</td>\n",
              "      <td>2683</td>\n",
              "      <td>1227</td>\n",
              "      <td>12280</td>\n",
              "      <td>6450</td>\n",
              "      <td>750</td>\n",
              "      <td>1500</td>\n",
              "      <td>29</td>\n",
              "      <td>30</td>\n",
              "      <td>12.2</td>\n",
              "      <td>16</td>\n",
              "      <td>10527</td>\n",
              "      <td>56</td>\n",
              "    </tr>\n",
              "    <tr>\n",
              "      <th>Adrian College</th>\n",
              "      <td>Yes</td>\n",
              "      <td>1428</td>\n",
              "      <td>1097</td>\n",
              "      <td>336</td>\n",
              "      <td>22</td>\n",
              "      <td>50</td>\n",
              "      <td>1036</td>\n",
              "      <td>99</td>\n",
              "      <td>11250</td>\n",
              "      <td>3750</td>\n",
              "      <td>400</td>\n",
              "      <td>1165</td>\n",
              "      <td>53</td>\n",
              "      <td>66</td>\n",
              "      <td>12.9</td>\n",
              "      <td>30</td>\n",
              "      <td>8735</td>\n",
              "      <td>54</td>\n",
              "    </tr>\n",
              "    <tr>\n",
              "      <th>Agnes Scott College</th>\n",
              "      <td>Yes</td>\n",
              "      <td>417</td>\n",
              "      <td>349</td>\n",
              "      <td>137</td>\n",
              "      <td>60</td>\n",
              "      <td>89</td>\n",
              "      <td>510</td>\n",
              "      <td>63</td>\n",
              "      <td>12960</td>\n",
              "      <td>5450</td>\n",
              "      <td>450</td>\n",
              "      <td>875</td>\n",
              "      <td>92</td>\n",
              "      <td>97</td>\n",
              "      <td>7.7</td>\n",
              "      <td>37</td>\n",
              "      <td>19016</td>\n",
              "      <td>59</td>\n",
              "    </tr>\n",
              "    <tr>\n",
              "      <th>Alaska Pacific University</th>\n",
              "      <td>Yes</td>\n",
              "      <td>193</td>\n",
              "      <td>146</td>\n",
              "      <td>55</td>\n",
              "      <td>16</td>\n",
              "      <td>44</td>\n",
              "      <td>249</td>\n",
              "      <td>869</td>\n",
              "      <td>7560</td>\n",
              "      <td>4120</td>\n",
              "      <td>800</td>\n",
              "      <td>1500</td>\n",
              "      <td>76</td>\n",
              "      <td>72</td>\n",
              "      <td>11.9</td>\n",
              "      <td>2</td>\n",
              "      <td>10922</td>\n",
              "      <td>15</td>\n",
              "    </tr>\n",
              "  </tbody>\n",
              "</table>\n",
              "</div>"
            ],
            "text/plain": [
              "                             Private  Apps  ...  Expend  Grad.Rate\n",
              "Abilene Christian University     Yes  1660  ...    7041         60\n",
              "Adelphi University               Yes  2186  ...   10527         56\n",
              "Adrian College                   Yes  1428  ...    8735         54\n",
              "Agnes Scott College              Yes   417  ...   19016         59\n",
              "Alaska Pacific University        Yes   193  ...   10922         15\n",
              "\n",
              "[5 rows x 18 columns]"
            ]
          },
          "metadata": {
            "tags": []
          },
          "execution_count": 5
        }
      ]
    },
    {
      "cell_type": "code",
      "metadata": {
        "id": "ccd49ikaKxcO",
        "colab_type": "code",
        "colab": {
          "base_uri": "https://localhost:8080/",
          "height": 451
        },
        "outputId": "cdc85a7a-76a8-4973-ad25-f70bef329ab3"
      },
      "source": [
        "df.info()"
      ],
      "execution_count": 6,
      "outputs": [
        {
          "output_type": "stream",
          "text": [
            "<class 'pandas.core.frame.DataFrame'>\n",
            "Index: 777 entries, Abilene Christian University to York College of Pennsylvania\n",
            "Data columns (total 18 columns):\n",
            " #   Column       Non-Null Count  Dtype  \n",
            "---  ------       --------------  -----  \n",
            " 0   Private      777 non-null    object \n",
            " 1   Apps         777 non-null    int64  \n",
            " 2   Accept       777 non-null    int64  \n",
            " 3   Enroll       777 non-null    int64  \n",
            " 4   Top10perc    777 non-null    int64  \n",
            " 5   Top25perc    777 non-null    int64  \n",
            " 6   F.Undergrad  777 non-null    int64  \n",
            " 7   P.Undergrad  777 non-null    int64  \n",
            " 8   Outstate     777 non-null    int64  \n",
            " 9   Room.Board   777 non-null    int64  \n",
            " 10  Books        777 non-null    int64  \n",
            " 11  Personal     777 non-null    int64  \n",
            " 12  PhD          777 non-null    int64  \n",
            " 13  Terminal     777 non-null    int64  \n",
            " 14  S.F.Ratio    777 non-null    float64\n",
            " 15  perc.alumni  777 non-null    int64  \n",
            " 16  Expend       777 non-null    int64  \n",
            " 17  Grad.Rate    777 non-null    int64  \n",
            "dtypes: float64(1), int64(16), object(1)\n",
            "memory usage: 115.3+ KB\n"
          ],
          "name": "stdout"
        }
      ]
    },
    {
      "cell_type": "code",
      "metadata": {
        "id": "5liRzhkfL0wN",
        "colab_type": "code",
        "colab": {
          "base_uri": "https://localhost:8080/",
          "height": 314
        },
        "outputId": "e2e8f9cb-0235-414e-fdf2-cdffe70a2a34"
      },
      "source": [
        "df.describe()"
      ],
      "execution_count": 7,
      "outputs": [
        {
          "output_type": "execute_result",
          "data": {
            "text/html": [
              "<div>\n",
              "<style scoped>\n",
              "    .dataframe tbody tr th:only-of-type {\n",
              "        vertical-align: middle;\n",
              "    }\n",
              "\n",
              "    .dataframe tbody tr th {\n",
              "        vertical-align: top;\n",
              "    }\n",
              "\n",
              "    .dataframe thead th {\n",
              "        text-align: right;\n",
              "    }\n",
              "</style>\n",
              "<table border=\"1\" class=\"dataframe\">\n",
              "  <thead>\n",
              "    <tr style=\"text-align: right;\">\n",
              "      <th></th>\n",
              "      <th>Apps</th>\n",
              "      <th>Accept</th>\n",
              "      <th>Enroll</th>\n",
              "      <th>Top10perc</th>\n",
              "      <th>Top25perc</th>\n",
              "      <th>F.Undergrad</th>\n",
              "      <th>P.Undergrad</th>\n",
              "      <th>Outstate</th>\n",
              "      <th>Room.Board</th>\n",
              "      <th>Books</th>\n",
              "      <th>Personal</th>\n",
              "      <th>PhD</th>\n",
              "      <th>Terminal</th>\n",
              "      <th>S.F.Ratio</th>\n",
              "      <th>perc.alumni</th>\n",
              "      <th>Expend</th>\n",
              "      <th>Grad.Rate</th>\n",
              "    </tr>\n",
              "  </thead>\n",
              "  <tbody>\n",
              "    <tr>\n",
              "      <th>count</th>\n",
              "      <td>777.000000</td>\n",
              "      <td>777.000000</td>\n",
              "      <td>777.000000</td>\n",
              "      <td>777.000000</td>\n",
              "      <td>777.000000</td>\n",
              "      <td>777.000000</td>\n",
              "      <td>777.000000</td>\n",
              "      <td>777.000000</td>\n",
              "      <td>777.000000</td>\n",
              "      <td>777.000000</td>\n",
              "      <td>777.000000</td>\n",
              "      <td>777.000000</td>\n",
              "      <td>777.000000</td>\n",
              "      <td>777.000000</td>\n",
              "      <td>777.000000</td>\n",
              "      <td>777.000000</td>\n",
              "      <td>777.00000</td>\n",
              "    </tr>\n",
              "    <tr>\n",
              "      <th>mean</th>\n",
              "      <td>3001.638353</td>\n",
              "      <td>2018.804376</td>\n",
              "      <td>779.972973</td>\n",
              "      <td>27.558559</td>\n",
              "      <td>55.796654</td>\n",
              "      <td>3699.907336</td>\n",
              "      <td>855.298584</td>\n",
              "      <td>10440.669241</td>\n",
              "      <td>4357.526384</td>\n",
              "      <td>549.380952</td>\n",
              "      <td>1340.642214</td>\n",
              "      <td>72.660232</td>\n",
              "      <td>79.702703</td>\n",
              "      <td>14.089704</td>\n",
              "      <td>22.743887</td>\n",
              "      <td>9660.171171</td>\n",
              "      <td>65.46332</td>\n",
              "    </tr>\n",
              "    <tr>\n",
              "      <th>std</th>\n",
              "      <td>3870.201484</td>\n",
              "      <td>2451.113971</td>\n",
              "      <td>929.176190</td>\n",
              "      <td>17.640364</td>\n",
              "      <td>19.804778</td>\n",
              "      <td>4850.420531</td>\n",
              "      <td>1522.431887</td>\n",
              "      <td>4023.016484</td>\n",
              "      <td>1096.696416</td>\n",
              "      <td>165.105360</td>\n",
              "      <td>677.071454</td>\n",
              "      <td>16.328155</td>\n",
              "      <td>14.722359</td>\n",
              "      <td>3.958349</td>\n",
              "      <td>12.391801</td>\n",
              "      <td>5221.768440</td>\n",
              "      <td>17.17771</td>\n",
              "    </tr>\n",
              "    <tr>\n",
              "      <th>min</th>\n",
              "      <td>81.000000</td>\n",
              "      <td>72.000000</td>\n",
              "      <td>35.000000</td>\n",
              "      <td>1.000000</td>\n",
              "      <td>9.000000</td>\n",
              "      <td>139.000000</td>\n",
              "      <td>1.000000</td>\n",
              "      <td>2340.000000</td>\n",
              "      <td>1780.000000</td>\n",
              "      <td>96.000000</td>\n",
              "      <td>250.000000</td>\n",
              "      <td>8.000000</td>\n",
              "      <td>24.000000</td>\n",
              "      <td>2.500000</td>\n",
              "      <td>0.000000</td>\n",
              "      <td>3186.000000</td>\n",
              "      <td>10.00000</td>\n",
              "    </tr>\n",
              "    <tr>\n",
              "      <th>25%</th>\n",
              "      <td>776.000000</td>\n",
              "      <td>604.000000</td>\n",
              "      <td>242.000000</td>\n",
              "      <td>15.000000</td>\n",
              "      <td>41.000000</td>\n",
              "      <td>992.000000</td>\n",
              "      <td>95.000000</td>\n",
              "      <td>7320.000000</td>\n",
              "      <td>3597.000000</td>\n",
              "      <td>470.000000</td>\n",
              "      <td>850.000000</td>\n",
              "      <td>62.000000</td>\n",
              "      <td>71.000000</td>\n",
              "      <td>11.500000</td>\n",
              "      <td>13.000000</td>\n",
              "      <td>6751.000000</td>\n",
              "      <td>53.00000</td>\n",
              "    </tr>\n",
              "    <tr>\n",
              "      <th>50%</th>\n",
              "      <td>1558.000000</td>\n",
              "      <td>1110.000000</td>\n",
              "      <td>434.000000</td>\n",
              "      <td>23.000000</td>\n",
              "      <td>54.000000</td>\n",
              "      <td>1707.000000</td>\n",
              "      <td>353.000000</td>\n",
              "      <td>9990.000000</td>\n",
              "      <td>4200.000000</td>\n",
              "      <td>500.000000</td>\n",
              "      <td>1200.000000</td>\n",
              "      <td>75.000000</td>\n",
              "      <td>82.000000</td>\n",
              "      <td>13.600000</td>\n",
              "      <td>21.000000</td>\n",
              "      <td>8377.000000</td>\n",
              "      <td>65.00000</td>\n",
              "    </tr>\n",
              "    <tr>\n",
              "      <th>75%</th>\n",
              "      <td>3624.000000</td>\n",
              "      <td>2424.000000</td>\n",
              "      <td>902.000000</td>\n",
              "      <td>35.000000</td>\n",
              "      <td>69.000000</td>\n",
              "      <td>4005.000000</td>\n",
              "      <td>967.000000</td>\n",
              "      <td>12925.000000</td>\n",
              "      <td>5050.000000</td>\n",
              "      <td>600.000000</td>\n",
              "      <td>1700.000000</td>\n",
              "      <td>85.000000</td>\n",
              "      <td>92.000000</td>\n",
              "      <td>16.500000</td>\n",
              "      <td>31.000000</td>\n",
              "      <td>10830.000000</td>\n",
              "      <td>78.00000</td>\n",
              "    </tr>\n",
              "    <tr>\n",
              "      <th>max</th>\n",
              "      <td>48094.000000</td>\n",
              "      <td>26330.000000</td>\n",
              "      <td>6392.000000</td>\n",
              "      <td>96.000000</td>\n",
              "      <td>100.000000</td>\n",
              "      <td>31643.000000</td>\n",
              "      <td>21836.000000</td>\n",
              "      <td>21700.000000</td>\n",
              "      <td>8124.000000</td>\n",
              "      <td>2340.000000</td>\n",
              "      <td>6800.000000</td>\n",
              "      <td>103.000000</td>\n",
              "      <td>100.000000</td>\n",
              "      <td>39.800000</td>\n",
              "      <td>64.000000</td>\n",
              "      <td>56233.000000</td>\n",
              "      <td>118.00000</td>\n",
              "    </tr>\n",
              "  </tbody>\n",
              "</table>\n",
              "</div>"
            ],
            "text/plain": [
              "               Apps        Accept  ...        Expend  Grad.Rate\n",
              "count    777.000000    777.000000  ...    777.000000  777.00000\n",
              "mean    3001.638353   2018.804376  ...   9660.171171   65.46332\n",
              "std     3870.201484   2451.113971  ...   5221.768440   17.17771\n",
              "min       81.000000     72.000000  ...   3186.000000   10.00000\n",
              "25%      776.000000    604.000000  ...   6751.000000   53.00000\n",
              "50%     1558.000000   1110.000000  ...   8377.000000   65.00000\n",
              "75%     3624.000000   2424.000000  ...  10830.000000   78.00000\n",
              "max    48094.000000  26330.000000  ...  56233.000000  118.00000\n",
              "\n",
              "[8 rows x 17 columns]"
            ]
          },
          "metadata": {
            "tags": []
          },
          "execution_count": 7
        }
      ]
    },
    {
      "cell_type": "markdown",
      "metadata": {
        "id": "6ODK-77wM33M",
        "colab_type": "text"
      },
      "source": [
        " Data visualization"
      ]
    },
    {
      "cell_type": "code",
      "metadata": {
        "id": "i5ap_lD-M8LQ",
        "colab_type": "code",
        "colab": {
          "base_uri": "https://localhost:8080/",
          "height": 493
        },
        "outputId": "17a8d6ef-8dae-4b4a-ab72-a99041e08882"
      },
      "source": [
        "sns.lmplot('Room.Board','Grad.Rate',data=df,hue='Private',fit_reg=False, size=6, aspect=1)"
      ],
      "execution_count": 8,
      "outputs": [
        {
          "output_type": "stream",
          "text": [
            "/usr/local/lib/python3.6/dist-packages/seaborn/regression.py:573: UserWarning: The `size` parameter has been renamed to `height`; please update your code.\n",
            "  warnings.warn(msg, UserWarning)\n"
          ],
          "name": "stderr"
        },
        {
          "output_type": "execute_result",
          "data": {
            "text/plain": [
              "<seaborn.axisgrid.FacetGrid at 0x7f652ce3e198>"
            ]
          },
          "metadata": {
            "tags": []
          },
          "execution_count": 8
        },
        {
          "output_type": "display_data",
          "data": {
            "image/png": "[encoded data removed]",
            "text/plain": [
              "<Figure size 484x432 with 1 Axes>"
            ]
          },
          "metadata": {
            "tags": [],
            "needs_background": "light"
          }
        }
      ]
    },
    {
      "cell_type": "code",
      "metadata": {
        "id": "CjVqydjrNRmw",
        "colab_type": "code",
        "colab": {
          "base_uri": "https://localhost:8080/",
          "height": 493
        },
        "outputId": "ce405a0a-943e-4ee6-9dcb-5154731d5c56"
      },
      "source": [
        "sns.lmplot('Outstate','F.Undergrad',data=df,hue='Private',fit_reg=False, size=6, aspect=1)"
      ],
      "execution_count": 9,
      "outputs": [
        {
          "output_type": "stream",
          "text": [
            "/usr/local/lib/python3.6/dist-packages/seaborn/regression.py:573: UserWarning: The `size` parameter has been renamed to `height`; please update your code.\n",
            "  warnings.warn(msg, UserWarning)\n"
          ],
          "name": "stderr"
        },
        {
          "output_type": "execute_result",
          "data": {
            "text/plain": [
              "<seaborn.axisgrid.FacetGrid at 0x7f652a555ba8>"
            ]
          },
          "metadata": {
            "tags": []
          },
          "execution_count": 9
        },
        {
          "output_type": "display_data",
          "data": {
            "image/png": "[encoded data removed]",
            "text/plain": [
              "<Figure size 484x432 with 1 Axes>"
            ]
          },
          "metadata": {
            "tags": [],
            "needs_background": "light"
          }
        }
      ]
    },
    {
      "cell_type": "code",
      "metadata": {
        "id": "VBG8ro9aOtlV",
        "colab_type": "code",
        "colab": {
          "base_uri": "https://localhost:8080/",
          "height": 476
        },
        "outputId": "73661533-c610-47d1-c45e-68b3641c5482"
      },
      "source": [
        "# stacked histogram showing out of state tuition based on private column\n",
        "g = sns.FacetGrid(df, hue='Private',size=6, aspect=2, palette='coolwarm')\n",
        "g = g.map(plt.hist, 'Outstate', bins=30, alpha=0.7)"
      ],
      "execution_count": 10,
      "outputs": [
        {
          "output_type": "stream",
          "text": [
            "/usr/local/lib/python3.6/dist-packages/seaborn/axisgrid.py:243: UserWarning: The `size` parameter has been renamed to `height`; please update your code.\n",
            "  warnings.warn(msg, UserWarning)\n"
          ],
          "name": "stderr"
        },
        {
          "output_type": "display_data",
          "data": {
            "image/png": "[encoded data removed]",
            "text/plain": [
              "<Figure size 864x432 with 1 Axes>"
            ]
          },
          "metadata": {
            "tags": [],
            "needs_background": "light"
          }
        }
      ]
    },
    {
      "cell_type": "code",
      "metadata": {
        "id": "ErA8fqjtRlXH",
        "colab_type": "code",
        "colab": {
          "base_uri": "https://localhost:8080/",
          "height": 476
        },
        "outputId": "a69cfc44-9d71-46f4-d9c9-84197840ebe2"
      },
      "source": [
        "# stacked histogram showing grad.rate tuition based on private column\n",
        "g = sns.FacetGrid(df, hue='Private',size=6, aspect=2, palette='coolwarm')\n",
        "g = g.map(plt.hist, 'Grad.Rate', bins=30, alpha=0.7)"
      ],
      "execution_count": 11,
      "outputs": [
        {
          "output_type": "stream",
          "text": [
            "/usr/local/lib/python3.6/dist-packages/seaborn/axisgrid.py:243: UserWarning: The `size` parameter has been renamed to `height`; please update your code.\n",
            "  warnings.warn(msg, UserWarning)\n"
          ],
          "name": "stderr"
        },
        {
          "output_type": "display_data",
          "data": {
            "image/png": "[encoded data removed]",
            "text/plain": [
              "<Figure size 864x432 with 1 Axes>"
            ]
          },
          "metadata": {
            "tags": [],
            "needs_background": "light"
          }
        }
      ]
    },
    {
      "cell_type": "code",
      "metadata": {
        "id": "dAfGC2rKSi9H",
        "colab_type": "code",
        "colab": {
          "base_uri": "https://localhost:8080/",
          "height": 117
        },
        "outputId": "0bf654df-98f5-4db6-de93-e4ffdd15f8cb"
      },
      "source": [
        "df[df['Grad.Rate']>100] # grad rate of this particular college is over 100%"
      ],
      "execution_count": 12,
      "outputs": [
        {
          "output_type": "execute_result",
          "data": {
            "text/html": [
              "<div>\n",
              "<style scoped>\n",
              "    .dataframe tbody tr th:only-of-type {\n",
              "        vertical-align: middle;\n",
              "    }\n",
              "\n",
              "    .dataframe tbody tr th {\n",
              "        vertical-align: top;\n",
              "    }\n",
              "\n",
              "    .dataframe thead th {\n",
              "        text-align: right;\n",
              "    }\n",
              "</style>\n",
              "<table border=\"1\" class=\"dataframe\">\n",
              "  <thead>\n",
              "    <tr style=\"text-align: right;\">\n",
              "      <th></th>\n",
              "      <th>Private</th>\n",
              "      <th>Apps</th>\n",
              "      <th>Accept</th>\n",
              "      <th>Enroll</th>\n",
              "      <th>Top10perc</th>\n",
              "      <th>Top25perc</th>\n",
              "      <th>F.Undergrad</th>\n",
              "      <th>P.Undergrad</th>\n",
              "      <th>Outstate</th>\n",
              "      <th>Room.Board</th>\n",
              "      <th>Books</th>\n",
              "      <th>Personal</th>\n",
              "      <th>PhD</th>\n",
              "      <th>Terminal</th>\n",
              "      <th>S.F.Ratio</th>\n",
              "      <th>perc.alumni</th>\n",
              "      <th>Expend</th>\n",
              "      <th>Grad.Rate</th>\n",
              "    </tr>\n",
              "  </thead>\n",
              "  <tbody>\n",
              "    <tr>\n",
              "      <th>Cazenovia College</th>\n",
              "      <td>Yes</td>\n",
              "      <td>3847</td>\n",
              "      <td>3433</td>\n",
              "      <td>527</td>\n",
              "      <td>9</td>\n",
              "      <td>35</td>\n",
              "      <td>1010</td>\n",
              "      <td>12</td>\n",
              "      <td>9384</td>\n",
              "      <td>4840</td>\n",
              "      <td>600</td>\n",
              "      <td>500</td>\n",
              "      <td>22</td>\n",
              "      <td>47</td>\n",
              "      <td>14.3</td>\n",
              "      <td>20</td>\n",
              "      <td>7697</td>\n",
              "      <td>118</td>\n",
              "    </tr>\n",
              "  </tbody>\n",
              "</table>\n",
              "</div>"
            ],
            "text/plain": [
              "                  Private  Apps  Accept  ...  perc.alumni  Expend  Grad.Rate\n",
              "Cazenovia College     Yes  3847    3433  ...           20    7697        118\n",
              "\n",
              "[1 rows x 18 columns]"
            ]
          },
          "metadata": {
            "tags": []
          },
          "execution_count": 12
        }
      ]
    },
    {
      "cell_type": "code",
      "metadata": {
        "id": "Lvm_ovVmSshQ",
        "colab_type": "code",
        "colab": {
          "base_uri": "https://localhost:8080/",
          "height": 104
        },
        "outputId": "f6f66dd8-1e21-4e98-f575-325039eff3ae"
      },
      "source": [
        "df['Grad.Rate']['Cazenovia College'] = 100 # changing it to 100, so it makes sense"
      ],
      "execution_count": 13,
      "outputs": [
        {
          "output_type": "stream",
          "text": [
            "/usr/local/lib/python3.6/dist-packages/ipykernel_launcher.py:1: SettingWithCopyWarning: \n",
            "A value is trying to be set on a copy of a slice from a DataFrame\n",
            "\n",
            "See the caveats in the documentation: https://pandas.pydata.org/pandas-docs/stable/user_guide/indexing.html#returning-a-view-versus-a-copy\n",
            "  \"\"\"Entry point for launching an IPython kernel.\n"
          ],
          "name": "stderr"
        }
      ]
    },
    {
      "cell_type": "code",
      "metadata": {
        "id": "FnBQVV4FTTJi",
        "colab_type": "code",
        "colab": {
          "base_uri": "https://localhost:8080/",
          "height": 476
        },
        "outputId": "74c8050a-463f-43d8-ef49-4e91eabd3ed9"
      },
      "source": [
        "# checking the visualization to see if it changed\n",
        "# stacked histogram showing grad.rate tuition based on private column\n",
        "g = sns.FacetGrid(df, hue='Private',size=6, aspect=2, palette='coolwarm')\n",
        "g = g.map(plt.hist, 'Grad.Rate', bins=30, alpha=0.7)"
      ],
      "execution_count": 14,
      "outputs": [
        {
          "output_type": "stream",
          "text": [
            "/usr/local/lib/python3.6/dist-packages/seaborn/axisgrid.py:243: UserWarning: The `size` parameter has been renamed to `height`; please update your code.\n",
            "  warnings.warn(msg, UserWarning)\n"
          ],
          "name": "stderr"
        },
        {
          "output_type": "display_data",
          "data": {
            "image/png": "[encoded data removed]",
            "text/plain": [
              "<Figure size 864x432 with 1 Axes>"
            ]
          },
          "metadata": {
            "tags": [],
            "needs_background": "light"
          }
        }
      ]
    },
    {
      "cell_type": "code",
      "metadata": {
        "id": "HscBksOCTmiX",
        "colab_type": "code",
        "colab": {
          "base_uri": "https://localhost:8080/",
          "height": 69
        },
        "outputId": "a27c7772-639b-4f1d-f549-4c0721ba7e64"
      },
      "source": [
        "# importing k means\n",
        "from sklearn.cluster import KMeans\n",
        "\n",
        "# creating an instance\n",
        "\n",
        "model = KMeans(n_clusters=2) # because want 2 groups, public vs private\n",
        "\n",
        "# dont do train test split because we dont have labels to split, unsupervised model\n",
        "\n",
        "model.fit(df.drop('Private', axis=1)) # fit all the data except Private column\n"
      ],
      "execution_count": 15,
      "outputs": [
        {
          "output_type": "execute_result",
          "data": {
            "text/plain": [
              "KMeans(algorithm='auto', copy_x=True, init='k-means++', max_iter=300,\n",
              "       n_clusters=2, n_init=10, n_jobs=None, precompute_distances='auto',\n",
              "       random_state=None, tol=0.0001, verbose=0)"
            ]
          },
          "metadata": {
            "tags": []
          },
          "execution_count": 15
        }
      ]
    },
    {
      "cell_type": "code",
      "metadata": {
        "id": "WQN3eRaNU5Wo",
        "colab_type": "code",
        "colab": {
          "base_uri": "https://localhost:8080/",
          "height": 191
        },
        "outputId": "f6c48961-8f85-4c3b-8506-bf093f7d78bd"
      },
      "source": [
        "# the cluster center vectors\n",
        "\n",
        "model.cluster_centers_"
      ],
      "execution_count": 17,
      "outputs": [
        {
          "output_type": "execute_result",
          "data": {
            "text/plain": [
              "array([[1.81323468e+03, 1.28716592e+03, 4.91044843e+02, 2.53094170e+01,\n",
              "        5.34708520e+01, 2.18854858e+03, 5.95458894e+02, 1.03957085e+04,\n",
              "        4.31136472e+03, 5.41982063e+02, 1.28033632e+03, 7.04424514e+01,\n",
              "        7.78251121e+01, 1.40997010e+01, 2.31748879e+01, 8.93204634e+03,\n",
              "        6.50926756e+01],\n",
              "       [1.03631389e+04, 6.55089815e+03, 2.56972222e+03, 4.14907407e+01,\n",
              "        7.02037037e+01, 1.30619352e+04, 2.46486111e+03, 1.07191759e+04,\n",
              "        4.64347222e+03, 5.95212963e+02, 1.71420370e+03, 8.63981481e+01,\n",
              "        9.13333333e+01, 1.40277778e+01, 2.00740741e+01, 1.41705000e+04,\n",
              "        6.75925926e+01]])"
            ]
          },
          "metadata": {
            "tags": []
          },
          "execution_count": 17
        }
      ]
    },
    {
      "cell_type": "code",
      "metadata": {
        "id": "MWXQic6X3Qfg",
        "colab_type": "code",
        "colab": {
          "base_uri": "https://localhost:8080/",
          "height": 361
        },
        "outputId": "47be4dae-7c85-4b45-9bd3-a80d2094778c"
      },
      "source": [
        "# create a new column Cluster, which is 1 for private and 0 for public school\n",
        "\n",
        "# creating a function to convert\n",
        "def converter(private):\n",
        "  if(private=='Yes'):\n",
        "    return 1\n",
        "  else:\n",
        "    return 0\n",
        "\n",
        "# creating cluster column and apply converter function\n",
        "df['Cluster'] = df['Private'].apply(converter)\n",
        "\n",
        "df.head()"
      ],
      "execution_count": 18,
      "outputs": [
        {
          "output_type": "execute_result",
          "data": {
            "text/html": [
              "<div>\n",
              "<style scoped>\n",
              "    .dataframe tbody tr th:only-of-type {\n",
              "        vertical-align: middle;\n",
              "    }\n",
              "\n",
              "    .dataframe tbody tr th {\n",
              "        vertical-align: top;\n",
              "    }\n",
              "\n",
              "    .dataframe thead th {\n",
              "        text-align: right;\n",
              "    }\n",
              "</style>\n",
              "<table border=\"1\" class=\"dataframe\">\n",
              "  <thead>\n",
              "    <tr style=\"text-align: right;\">\n",
              "      <th></th>\n",
              "      <th>Private</th>\n",
              "      <th>Apps</th>\n",
              "      <th>Accept</th>\n",
              "      <th>Enroll</th>\n",
              "      <th>Top10perc</th>\n",
              "      <th>Top25perc</th>\n",
              "      <th>F.Undergrad</th>\n",
              "      <th>P.Undergrad</th>\n",
              "      <th>Outstate</th>\n",
              "      <th>Room.Board</th>\n",
              "      <th>Books</th>\n",
              "      <th>Personal</th>\n",
              "      <th>PhD</th>\n",
              "      <th>Terminal</th>\n",
              "      <th>S.F.Ratio</th>\n",
              "      <th>perc.alumni</th>\n",
              "      <th>Expend</th>\n",
              "      <th>Grad.Rate</th>\n",
              "      <th>Cluster</th>\n",
              "    </tr>\n",
              "  </thead>\n",
              "  <tbody>\n",
              "    <tr>\n",
              "      <th>Abilene Christian University</th>\n",
              "      <td>Yes</td>\n",
              "      <td>1660</td>\n",
              "      <td>1232</td>\n",
              "      <td>721</td>\n",
              "      <td>23</td>\n",
              "      <td>52</td>\n",
              "      <td>2885</td>\n",
              "      <td>537</td>\n",
              "      <td>7440</td>\n",
              "      <td>3300</td>\n",
              "      <td>450</td>\n",
              "      <td>2200</td>\n",
              "      <td>70</td>\n",
              "      <td>78</td>\n",
              "      <td>18.1</td>\n",
              "      <td>12</td>\n",
              "      <td>7041</td>\n",
              "      <td>60</td>\n",
              "      <td>1</td>\n",
              "    </tr>\n",
              "    <tr>\n",
              "      <th>Adelphi University</th>\n",
              "      <td>Yes</td>\n",
              "      <td>2186</td>\n",
              "      <td>1924</td>\n",
              "      <td>512</td>\n",
              "      <td>16</td>\n",
              "      <td>29</td>\n",
              "      <td>2683</td>\n",
              "      <td>1227</td>\n",
              "      <td>12280</td>\n",
              "      <td>6450</td>\n",
              "      <td>750</td>\n",
              "      <td>1500</td>\n",
              "      <td>29</td>\n",
              "      <td>30</td>\n",
              "      <td>12.2</td>\n",
              "      <td>16</td>\n",
              "      <td>10527</td>\n",
              "      <td>56</td>\n",
              "      <td>1</td>\n",
              "    </tr>\n",
              "    <tr>\n",
              "      <th>Adrian College</th>\n",
              "      <td>Yes</td>\n",
              "      <td>1428</td>\n",
              "      <td>1097</td>\n",
              "      <td>336</td>\n",
              "      <td>22</td>\n",
              "      <td>50</td>\n",
              "      <td>1036</td>\n",
              "      <td>99</td>\n",
              "      <td>11250</td>\n",
              "      <td>3750</td>\n",
              "      <td>400</td>\n",
              "      <td>1165</td>\n",
              "      <td>53</td>\n",
              "      <td>66</td>\n",
              "      <td>12.9</td>\n",
              "      <td>30</td>\n",
              "      <td>8735</td>\n",
              "      <td>54</td>\n",
              "      <td>1</td>\n",
              "    </tr>\n",
              "    <tr>\n",
              "      <th>Agnes Scott College</th>\n",
              "      <td>Yes</td>\n",
              "      <td>417</td>\n",
              "      <td>349</td>\n",
              "      <td>137</td>\n",
              "      <td>60</td>\n",
              "      <td>89</td>\n",
              "      <td>510</td>\n",
              "      <td>63</td>\n",
              "      <td>12960</td>\n",
              "      <td>5450</td>\n",
              "      <td>450</td>\n",
              "      <td>875</td>\n",
              "      <td>92</td>\n",
              "      <td>97</td>\n",
              "      <td>7.7</td>\n",
              "      <td>37</td>\n",
              "      <td>19016</td>\n",
              "      <td>59</td>\n",
              "      <td>1</td>\n",
              "    </tr>\n",
              "    <tr>\n",
              "      <th>Alaska Pacific University</th>\n",
              "      <td>Yes</td>\n",
              "      <td>193</td>\n",
              "      <td>146</td>\n",
              "      <td>55</td>\n",
              "      <td>16</td>\n",
              "      <td>44</td>\n",
              "      <td>249</td>\n",
              "      <td>869</td>\n",
              "      <td>7560</td>\n",
              "      <td>4120</td>\n",
              "      <td>800</td>\n",
              "      <td>1500</td>\n",
              "      <td>76</td>\n",
              "      <td>72</td>\n",
              "      <td>11.9</td>\n",
              "      <td>2</td>\n",
              "      <td>10922</td>\n",
              "      <td>15</td>\n",
              "      <td>1</td>\n",
              "    </tr>\n",
              "  </tbody>\n",
              "</table>\n",
              "</div>"
            ],
            "text/plain": [
              "                             Private  Apps  Accept  ...  Expend  Grad.Rate  Cluster\n",
              "Abilene Christian University     Yes  1660    1232  ...    7041         60        1\n",
              "Adelphi University               Yes  2186    1924  ...   10527         56        1\n",
              "Adrian College                   Yes  1428    1097  ...    8735         54        1\n",
              "Agnes Scott College              Yes   417     349  ...   19016         59        1\n",
              "Alaska Pacific University        Yes   193     146  ...   10922         15        1\n",
              "\n",
              "[5 rows x 19 columns]"
            ]
          },
          "metadata": {
            "tags": []
          },
          "execution_count": 18
        }
      ]
    },
    {
      "cell_type": "code",
      "metadata": {
        "id": "FT6VSk9L5D6u",
        "colab_type": "code",
        "colab": {}
      },
      "source": [
        "from sklearn.metrics import confusion_matrix, classification_report"
      ],
      "execution_count": 19,
      "outputs": []
    },
    {
      "cell_type": "code",
      "metadata": {
        "id": "2Jlo5rIh5YGR",
        "colab_type": "code",
        "colab": {
          "base_uri": "https://localhost:8080/",
          "height": 53
        },
        "outputId": "a9ef80b6-9248-4d92-af2c-139da0261fab"
      },
      "source": [
        "classification_report(df['Cluster'], model.labels_)"
      ],
      "execution_count": 20,
      "outputs": [
        {
          "output_type": "execute_result",
          "data": {
            "application/vnd.google.colaboratory.intrinsic+json": {
              "type": "string"
            },
            "text/plain": [
              "'              precision    recall  f1-score   support\\n\\n           0       0.21      0.65      0.31       212\\n           1       0.31      0.06      0.10       565\\n\\n    accuracy                           0.22       777\\n   macro avg       0.26      0.36      0.21       777\\nweighted avg       0.29      0.22      0.16       777\\n'"
            ]
          },
          "metadata": {
            "tags": []
          },
          "execution_count": 20
        }
      ]
    },
    {
      "cell_type": "code",
      "metadata": {
        "id": "2N3VIyq25cgc",
        "colab_type": "code",
        "colab": {
          "base_uri": "https://localhost:8080/",
          "height": 52
        },
        "outputId": "3ac380f9-3f6d-491d-970d-441b95175697"
      },
      "source": [
        "confusion_matrix(df['Cluster'], model.labels_)"
      ],
      "execution_count": 21,
      "outputs": [
        {
          "output_type": "execute_result",
          "data": {
            "text/plain": [
              "array([[138,  74],\n",
              "       [531,  34]])"
            ]
          },
          "metadata": {
            "tags": []
          },
          "execution_count": 21
        }
      ]
    },
    {
      "cell_type": "code",
      "metadata": {
        "id": "RQNefh1q5img",
        "colab_type": "code",
        "colab": {}
      },
      "source": [
        ""
      ],
      "execution_count": null,
      "outputs": []
    }
  ]
}